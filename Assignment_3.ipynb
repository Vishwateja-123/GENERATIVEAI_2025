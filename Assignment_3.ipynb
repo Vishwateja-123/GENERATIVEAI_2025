{
  "nbformat": 4,
  "nbformat_minor": 0,
  "metadata": {
    "colab": {
      "provenance": [],
      "authorship_tag": "ABX9TyOzSv5G7ksiYIuYnYffb3PR",
      "include_colab_link": true
    },
    "kernelspec": {
      "name": "python3",
      "display_name": "Python 3"
    },
    "language_info": {
      "name": "python"
    }
  },
  "cells": [
    {
      "cell_type": "markdown",
      "metadata": {
        "id": "view-in-github",
        "colab_type": "text"
      },
      "source": [
        "<a href=\"https://colab.research.google.com/github/Vishwateja-123/GENERATIVEAI_2025/blob/main/Assignment_3.ipynb\" target=\"_parent\"><img src=\"https://colab.research.google.com/assets/colab-badge.svg\" alt=\"Open In Colab\"/></a>"
      ]
    },
    {
      "cell_type": "code",
      "execution_count": 1,
      "metadata": {
        "colab": {
          "base_uri": "https://localhost:8080/"
        },
        "id": "TnLKRijqSSWA",
        "outputId": "f412e8d0-3a99-4be2-b2e3-1d80122fde5f"
      },
      "outputs": [
        {
          "output_type": "stream",
          "name": "stdout",
          "text": [
            "The value of x at which f(x) has a minimum is: 1.63586104206045e-05\n"
          ]
        }
      ],
      "source": [
        "def gradient_descent(learning_rate=0.01, max_iters=1000, tolerance=1e-6):\n",
        "    x = 1.0  # Initial guess\n",
        "    for _ in range(max_iters):\n",
        "        grad = 20 * x**3 + 6 * x  # Compute the derivative f'(x)\n",
        "        new_x = x - learning_rate * grad  # Update x\n",
        "\n",
        "        if abs(new_x - x) < tolerance:  # Check for convergence\n",
        "            break\n",
        "\n",
        "        x = new_x  # Update x for next iteration\n",
        "\n",
        "    return x\n",
        "\n",
        "minimum_x = gradient_descent()\n",
        "print(\"The value of x at which f(x) has a minimum is:\", minimum_x)\n"
      ]
    },
    {
      "cell_type": "code",
      "source": [
        "# f (x) = 3x2 + 5e−y + 10\n",
        "def gradient_descent(learning_rate=0.01, max_iters=1000, tolerance=1e-6):\n",
        "    x = 1.0  # Initial guess for x\n",
        "    y = 1.0  # Initial guess for y\n",
        "    for _ in range(max_iters):\n",
        "        grad_x = 6 * x  # Partial derivative of g(x, y) with respect to x\n",
        "        grad_y = -5 * 2.71828**(-y) # Partial derivative of g(x, y) with respect to y (approx. value of e)\n",
        "\n",
        "        new_x = x - learning_rate * grad_x\n",
        "        new_y = y - learning_rate * grad_y\n",
        "\n",
        "        if abs(new_x - x) < tolerance and abs(new_y - y) < tolerance:\n",
        "            break\n",
        "\n",
        "        x = new_x\n",
        "        y = new_y\n",
        "\n",
        "    return x, y\n",
        "\n",
        "minimum_x, minimum_y = gradient_descent()\n",
        "print(\"The value of x at which g(x,y) has a minimum is:\", minimum_x)\n",
        "print(\"The value of y at which g(x,y) has a minimum is:\", minimum_y)"
      ],
      "metadata": {
        "colab": {
          "base_uri": "https://localhost:8080/"
        },
        "id": "CrWY9YkHhCGW",
        "outputId": "c4b77a55-ebe1-4b3d-e2f3-02ce3da583b1"
      },
      "execution_count": 5,
      "outputs": [
        {
          "output_type": "stream",
          "name": "stdout",
          "text": [
            "The value of x at which g(x,y) has a minimum is: 1.3423123924933694e-27\n",
            "The value of y at which g(x,y) has a minimum is: 3.966372788969171\n"
          ]
        }
      ]
    },
    {
      "cell_type": "code",
      "source": [
        "# z(x) = 1\n",
        "# 1 + e−x\n",
        "\n",
        "import math\n",
        "\n",
        "def sigmoid(x):\n",
        "    return 1 / (1 + math.exp(-x))\n",
        "\n",
        "def sigmoid_derivative(x):\n",
        "    s = sigmoid(x)\n",
        "    return s * (1 - s)\n",
        "\n",
        "def gradient_descent(learning_rate=0.1, max_iterations=1000, tolerance=1e-6):\n",
        "    x = 0  # Initial guess for x\n",
        "    for _ in range(max_iterations):\n",
        "        gradient = sigmoid_derivative(x)\n",
        "        new_x = x - learning_rate * gradient\n",
        "\n",
        "        if abs(new_x - x) < tolerance:\n",
        "            break\n",
        "\n",
        "        x = new_x\n",
        "    return x\n",
        "\n",
        "# Find the x that minimizes the sigmoid function (which is actually where the derivative is close to zero)\n",
        "min_x = gradient_descent()\n",
        "print(\"The value of x at which the sigmoid function has a minimum derivative is approximately:\", min_x)"
      ],
      "metadata": {
        "colab": {
          "base_uri": "https://localhost:8080/"
        },
        "id": "stFPS5p9hM7r",
        "outputId": "3d689eb9-9dd4-49f9-a53f-ac4ab94152a9"
      },
      "execution_count": 6,
      "outputs": [
        {
          "output_type": "stream",
          "name": "stdout",
          "text": [
            "The value of x at which the sigmoid function has a minimum derivative is approximately: -4.512436490262131\n"
          ]
        }
      ]
    },
    {
      "cell_type": "code",
      "source": [],
      "metadata": {
        "id": "oHHB3WG1haJb"
      },
      "execution_count": null,
      "outputs": []
    }
  ]
}
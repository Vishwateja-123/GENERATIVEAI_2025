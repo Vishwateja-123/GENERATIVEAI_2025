{
  "nbformat": 4,
  "nbformat_minor": 0,
  "metadata": {
    "colab": {
      "provenance": [],
      "authorship_tag": "ABX9TyMfc9Yz89nTRx3gM8vasA8W",
      "include_colab_link": true
    },
    "kernelspec": {
      "name": "python3",
      "display_name": "Python 3"
    },
    "language_info": {
      "name": "python"
    }
  },
  "cells": [
    {
      "cell_type": "markdown",
      "metadata": {
        "id": "view-in-github",
        "colab_type": "text"
      },
      "source": [
        "<a href=\"https://colab.research.google.com/github/Vishwateja-123/GENERATIVEAI_2025/blob/main/Assignment_1.ipynb\" target=\"_parent\"><img src=\"https://colab.research.google.com/assets/colab-badge.svg\" alt=\"Open In Colab\"/></a>"
      ]
    },
    {
      "cell_type": "code",
      "source": [
        "# Actual and predicted values\n",
        "Y_actual = [20, 30, 40, 50, 60]\n",
        "Y_pred = [20.5, 30.3, 40.2, 50.6, 60.7]"
      ],
      "metadata": {
        "id": "RWyIsuLJPG0S"
      },
      "execution_count": null,
      "outputs": []
    },
    {
      "cell_type": "code",
      "source": [
        "# Calculate Mean Absolute Error (MAE)\n",
        "def calculate_mae(y_actual, y_pred):\n",
        "    error_sum = 0\n",
        "    for actual, pred in zip(y_actual, y_pred):\n",
        "        error_sum += abs(actual - pred)\n",
        "    mae = error_sum / len(y_actual)\n",
        "    return mae"
      ],
      "metadata": {
        "id": "Vtm2awqhPG3I"
      },
      "execution_count": null,
      "outputs": []
    },
    {
      "cell_type": "code",
      "source": [
        "# Calculate Mean Squared Error (MSE)\n",
        "def calculate_mse(y_actual, y_pred):\n",
        "    error_sum = 0\n",
        "    for actual, pred in zip(y_actual, y_pred):\n",
        "        error_sum += (actual - pred) ** 2\n",
        "    mse = error_sum / len(y_actual)\n",
        "    return mse"
      ],
      "metadata": {
        "id": "BTdlkBacPG5f"
      },
      "execution_count": null,
      "outputs": []
    },
    {
      "cell_type": "code",
      "source": [
        "# Calculate Root Mean Squared Error (RMSE)\n",
        "def calculate_rmse(y_actual, y_pred):\n",
        "    mse = calculate_mse(y_actual, y_pred)\n",
        "    rmse = mse ** 0.5\n",
        "    return rmse"
      ],
      "metadata": {
        "id": "dsaXeNFLPG8U"
      },
      "execution_count": null,
      "outputs": []
    },
    {
      "cell_type": "code",
      "source": [
        "#calculation\n",
        "mae = calculate_mae(Y_actual, Y_pred)\n",
        "mse = calculate_mse(Y_actual, Y_pred)\n",
        "rmse = calculate_rmse(Y_actual, Y_pred)"
      ],
      "metadata": {
        "id": "4QIylAXJPG-7"
      },
      "execution_count": null,
      "outputs": []
    },
    {
      "cell_type": "code",
      "source": [
        "#results\n",
        "print(\"Manual Calculation Results:\")\n",
        "print(f\"Mean Absolute Error (MAE): {mae}\")\n",
        "print(f\"Mean Squared Error (MSE): {mse}\")\n",
        "print(f\"Root Mean Squared Error (RMSE): {rmse}\")\n"
      ],
      "metadata": {
        "colab": {
          "base_uri": "https://localhost:8080/"
        },
        "id": "QM9ZcCBUPHBT",
        "outputId": "4d03a630-41df-4cc1-f662-bf8c00aba506"
      },
      "execution_count": null,
      "outputs": [
        {
          "output_type": "stream",
          "name": "stdout",
          "text": [
            "Manual Calculation Results:\n",
            "Mean Absolute Error (MAE): 0.4600000000000016\n",
            "Mean Squared Error (MSE): 0.24600000000000147\n",
            "Root Mean Squared Error (RMSE): 0.49598387070549127\n"
          ]
        }
      ]
    },
    {
      "cell_type": "code",
      "source": [
        "from sklearn.metrics import mean_absolute_error, mean_squared_error\n",
        "mae = mean_absolute_error(Y_actual, Y_pred)\n",
        "mse = mean_squared_error(Y_actual, Y_pred)\n",
        "rmse = mean_squared_error(Y_actual, Y_pred)\n",
        "print(f\"Mean Absolute Error (MAE): {mae}\")\n",
        "print(f\"Mean Squared Error (MSE): {mse}\")\n",
        "print(f\"Root Mean Squared Error (RMSE): {rmse}\")"
      ],
      "metadata": {
        "colab": {
          "base_uri": "https://localhost:8080/"
        },
        "id": "qJIF8MrCUTuX",
        "outputId": "9c13348b-5328-4f7c-ae1e-4406037aab28"
      },
      "execution_count": null,
      "outputs": [
        {
          "output_type": "stream",
          "name": "stdout",
          "text": [
            "Mean Absolute Error (MAE): 0.4600000000000016\n",
            "Mean Squared Error (MSE): 0.24600000000000147\n",
            "Root Mean Squared Error (RMSE): 0.24600000000000147\n"
          ]
        }
      ]
    },
    {
      "cell_type": "code",
      "source": [],
      "metadata": {
        "id": "Oe_WrkQqUURO"
      },
      "execution_count": null,
      "outputs": []
    }
  ]
}
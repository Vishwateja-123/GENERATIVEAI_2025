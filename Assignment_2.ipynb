{
  "nbformat": 4,
  "nbformat_minor": 0,
  "metadata": {
    "colab": {
      "provenance": [],
      "authorship_tag": "ABX9TyMAXnDLrdKBOOfEhItMdSpS",
      "include_colab_link": true
    },
    "kernelspec": {
      "name": "python3",
      "display_name": "Python 3"
    },
    "language_info": {
      "name": "python"
    }
  },
  "cells": [
    {
      "cell_type": "markdown",
      "metadata": {
        "id": "view-in-github",
        "colab_type": "text"
      },
      "source": [
        "<a href=\"https://colab.research.google.com/github/Vishwateja-123/GENERATIVEAI_2025/blob/main/Assignment_2.ipynb\" target=\"_parent\"><img src=\"https://colab.research.google.com/assets/colab-badge.svg\" alt=\"Open In Colab\"/></a>"
      ]
    },
    {
      "cell_type": "code",
      "source": [
        "#1st Question\n",
        "from scipy.optimize import linprog\n",
        "c = [-6, -5]\n",
        "A = [\n",
        "    [1, 1],\n",
        "    [3, 2]\n",
        "]\n",
        "b = [5, 12]\n",
        "x0_bounds = (0, None)\n",
        "x1_bounds = (0, None)\n",
        "result = linprog(c, A_ub=A, b_ub=b, bounds=[x0_bounds, x1_bounds], method='highs')\n",
        "if result.success:\n",
        "    print(f\"Optimal solution found:\")\n",
        "    print(f\"Units of A to produce: {result.x[0]:.2f}\")\n",
        "    print(f\"Units of B to produce: {result.x[1]:.2f}\")\n",
        "    print(f\"Maximum profit: Rs {-result.fun:.2f}\")\n",
        "else:\n",
        "    print(\"No optimal solution found.\")"
      ],
      "metadata": {
        "colab": {
          "base_uri": "https://localhost:8080/"
        },
        "id": "VMG-qTwzg4E-",
        "outputId": "3a9e3a9f-c843-43fa-9904-e8a27a520121"
      },
      "execution_count": 6,
      "outputs": [
        {
          "output_type": "stream",
          "name": "stdout",
          "text": [
            "Optimal solution found:\n",
            "Units of A to produce: 2.00\n",
            "Units of B to produce: 3.00\n",
            "Maximum profit: Rs 27.00\n"
          ]
        }
      ]
    },
    {
      "cell_type": "code",
      "source": [
        "#2nd Question\n",
        "from scipy.optimize import linprog\n",
        "c = [-120, -50]\n",
        "A = [\n",
        "    [1, 1],\n",
        "    [7000, 2000],\n",
        "    [10, 30]\n",
        "]\n",
        "b = [110, 700000, 1200]\n",
        "x_bounds = (0, None)\n",
        "bounds = [x_bounds, x_bounds]\n",
        "result = linprog(c, A_ub=A, b_ub=b, bounds=bounds, method='highs')\n",
        "if result.success:\n",
        "    print(\"Optimal Solution Found!\")\n",
        "    print(f\"Area allocated to Wheat (x1): {result.x[0]:.2f} hectares\")\n",
        "    print(f\"Area allocated to Barley (x2): {result.x[1]:.2f} hectares\")\n",
        "    print(f\"Maximum Profit: Rs. {-result.fun:.2f}\")\n",
        "else:\n",
        "    print(\"No optimal solution found.\")"
      ],
      "metadata": {
        "colab": {
          "base_uri": "https://localhost:8080/"
        },
        "id": "gml172gMg9w_",
        "outputId": "c2018b20-53c2-454e-afa1-9a1a903b3aa9"
      },
      "execution_count": 7,
      "outputs": [
        {
          "output_type": "stream",
          "name": "stdout",
          "text": [
            "Optimal Solution Found!\n",
            "Area allocated to Wheat (x1): 97.89 hectares\n",
            "Area allocated to Barley (x2): 7.37 hectares\n",
            "Maximum Profit: Rs. 12115.79\n"
          ]
        }
      ]
    },
    {
      "cell_type": "code",
      "source": [],
      "metadata": {
        "id": "etTCNry3hV4f"
      },
      "execution_count": null,
      "outputs": []
    }
  ]
}